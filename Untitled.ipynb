{
 "cells": [
  {
   "cell_type": "markdown",
   "metadata": {},
   "source": [
    "# Programming for Data Analysis\n",
    "## Project 2019\n",
    "### Higher Diploma in Data Science, student: Agata Chmielowiec"
   ]
  },
  {
   "cell_type": "markdown",
   "metadata": {},
   "source": [
    "## **Introduction**\n",
    "\n",
    "As a topic of the project i chose 5k run phenomenon. \n",
    "In recent years this have been more and more popular activity among young and old.\n",
    "Insurance companies are sponsoring weekly 5k runs around ireland, companies are hiring trainers to prepare workrs for it. \n",
    "Is everybody able to run 5k and how long preparation to it takes?\n",
    "\n",
    "My dataset will be based on 4 variables. One categorial variable and 3 numerical variables:\n",
    "\n",
    "* Gender\n",
    "* Weight\n",
    "* Height\n",
    "* Age\n",
    "* Time\n",
    "\n",
    "First I investigate **gender** and **age** variables as my dataset will be based on those factors. \n",
    "\n",
    "Secondary I will describe how weight interfere with the results and how many hours in a gym per week should be spent. \n",
    "\n",
    "The packages used for this repository, are:\n"
   ]
  },
  {
   "cell_type": "code",
   "execution_count": 1,
   "metadata": {},
   "outputs": [],
   "source": [
    "import numpy as np\n",
    "import pandas as pd\n",
    "import seaborn as sns\n",
    "import matplotlib.pyplot as plt\n",
    "from scipy.linalg import cholesky"
   ]
  },
  {
   "cell_type": "markdown",
   "metadata": {},
   "source": [
    "# Gender\n",
    "\n",
    "Analysing 2019 Run in The Dark organised in Dublin outcomes foudn on web https://www.runinthedark.org/results-dublin-2019/ , outcome is:\n",
    "* For first 100 finalisty 11 of them were woman\n",
    "* First 1000 people run 5k in time lesser then 28:45\n",
    "* Average time for women 26:18 man: 24:40\n",
    "* In my probe there is 668 Man, 332 Female\n",
    "\n",
    "\n"
   ]
  },
  {
   "cell_type": "markdown",
   "metadata": {},
   "source": [
    "# Weight\n",
    "There's certainly evidence that weight affects speed: An American College of Sports Medicine study shows that a 5 percent reduction in weight improved 3K times by 3.1 percent, while a 10 percent reduction improved times by 5.2 percent, and experts say that this difference becomes greater as your distance increases.\n",
    "\n",
    "https://www.runnersworld.com/beginner/a20843535/how-does-weight-loss-affect-my-running-speed/\n",
    "https://www.runnersworld.com/nutrition-weight-loss/a20856066/how-much-does-an-extra-pound-slow-you-down/\n"
   ]
  },
  {
   "cell_type": "markdown",
   "metadata": {},
   "source": [
    "# Age\n",
    "From the source https://www.meteor.run/running-event/summary/5k it is said that:\n",
    "\n",
    "* Best results for women are in age 30-39\n",
    "* Best results for man are in age 20-29\n"
   ]
  },
  {
   "cell_type": "code",
   "execution_count": null,
   "metadata": {},
   "outputs": [],
   "source": [
    "-------------------\n",
    "From one of the sources, information provided is as follows:\n",
    "* On Average:    \n",
    "    * The time required for a woman to win a 5k run is 00:19:12.\n",
    "    * The time required for a man to win a 5k run is 00:16:51.\n",
    "    * A woman completes a 5k run in a time of 00:34:32.\n",
    "    * A man completes a 5k run in a time of 00:29:10.\n",
    "    \n",
    "* 58.1% of 5k run participants are women.\n",
    "* The top performing age groups in the 5k run are female 30-39 and male 20-29.\n",
    "* The most popular age groups in the 5k run are female 30-39 and male 40-49.\n",
    "* 22.2% of runners that complete a 5k run will return to run that same event the following year\n",
    "-----------------"
   ]
  },
  {
   "cell_type": "markdown",
   "metadata": {},
   "source": [
    "# References:\n",
    "\n",
    " \n",
    "* (Meteor Run) [https://www.meteor.run/running-event/summary/5k]\n",
    "* (Top Indoor and Outdoor Annual Performance Lists IRELAND) [https://www.athleticsireland.ie/competition/statistics/]\n",
    "* (Average Running Speed) [https://www.runnersworld.com/beginner/a28568664/average-running-pace/]\n",
    "* (Runners World) [https://www.runnersworld.com/news/g25333911/strava-annual-report-running-statistics/]\n",
    "* (5k statistics) [https://www.5kevents.org/demographics.html]\n",
    "* (Parkrun VHI statistics)[https://www.parkrun.ie/marlay/#stats_panel]\n",
    " "
   ]
  },
  {
   "cell_type": "code",
   "execution_count": null,
   "metadata": {},
   "outputs": [],
   "source": []
  }
 ],
 "metadata": {
  "kernelspec": {
   "display_name": "Python 3",
   "language": "python",
   "name": "python3"
  },
  "language_info": {
   "codemirror_mode": {
    "name": "ipython",
    "version": 3
   },
   "file_extension": ".py",
   "mimetype": "text/x-python",
   "name": "python",
   "nbconvert_exporter": "python",
   "pygments_lexer": "ipython3",
   "version": "3.7.4"
  }
 },
 "nbformat": 4,
 "nbformat_minor": 4
}
