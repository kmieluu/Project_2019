{
 "cells": [
  {
   "cell_type": "markdown",
   "metadata": {},
   "source": [
    "# Programming for Data Analysis\n",
    "## Project 2019\n",
    "### Higher Diploma in Data Science, student: Agata Chmielowiec"
   ]
  },
  {
   "cell_type": "markdown",
   "metadata": {},
   "source": [
    "## Topic of the Project: 5k Run Statistics\n",
    "\n",
    "Selection of variables for the purpose of the project:\n",
    "* Sex,\n",
    "* Age,\n",
    "* Top Times per Age Group,\n",
    "* Hours of practice per week.\n",
    "-------------------\n",
    "From one of the sources, information provided is as follows:\n",
    "* On Average:    \n",
    "    * The time required for a woman to win a 5k run is 00:19:12.\n",
    "    * The time required for a man to win a 5k run is 00:16:51.\n",
    "    * A woman completes a 5k run in a time of 00:34:32.\n",
    "    * A man completes a 5k run in a time of 00:29:10.\n",
    "    \n",
    "* 58.1% of 5k run participants are women.\n",
    "* The top performing age groups in the 5k run are female 30-39 and male 20-29.\n",
    "* The most popular age groups in the 5k run are female 30-39 and male 40-49.\n",
    "* 22.2% of runners that complete a 5k run will return to run that same event the following year\n",
    "-----------------\n",
    "\n",
    " \n",
    "\n"
   ]
  },
  {
   "cell_type": "code",
   "execution_count": null,
   "metadata": {},
   "outputs": [],
   "source": []
  },
  {
   "cell_type": "code",
   "execution_count": null,
   "metadata": {},
   "outputs": [],
   "source": []
  },
  {
   "cell_type": "markdown",
   "metadata": {},
   "source": [
    "# References:\n",
    "\n",
    "\n",
    "    * (Meteor Run) (https://www.meteor.run/running-event/summary/5k)\n",
    "    * (Average Running Speed) [https://www.runnersworld.com/beginner/a28568664/average-running-pace/]\n",
    "    * (Runners World) [https://www.runnersworld.com/news/g25333911/strava-annual-report-running-statistics/]\n",
    "    * (5k statistics) [https://www.5kevents.org/demographics.html]\n",
    "    * (Parkrun VHI statistics)[https://www.parkrun.ie/marlay/#stats_panel]"
   ]
  },
  {
   "cell_type": "code",
   "execution_count": null,
   "metadata": {},
   "outputs": [],
   "source": []
  }
 ],
 "metadata": {
  "kernelspec": {
   "display_name": "Python 3",
   "language": "python",
   "name": "python3"
  },
  "language_info": {
   "codemirror_mode": {
    "name": "ipython",
    "version": 3
   },
   "file_extension": ".py",
   "mimetype": "text/x-python",
   "name": "python",
   "nbconvert_exporter": "python",
   "pygments_lexer": "ipython3",
   "version": "3.7.4"
  }
 },
 "nbformat": 4,
 "nbformat_minor": 4
}
